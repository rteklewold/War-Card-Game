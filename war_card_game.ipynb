{
 "cells": [
  {
   "cell_type": "code",
   "execution_count": 25,
   "metadata": {},
   "outputs": [],
   "source": [
    "import random\n",
    "suits = ('Hearts', 'Diamonds', 'Spades', 'Clubs')\n",
    "ranks = ('Two', 'Three', 'Four','Five', 'Six', 'Seven', 'Eight', 'Nine', 'Ten', 'Jack', 'Queen', 'King', 'Ace')\n",
    "values = {'Two': 2, 'Three': 3, 'Four': 4, 'Five': 5, 'Six': 6, 'Seven': 7, 'Eight': 7, 'Nine': 9,'Ten': 10, 'Jack': 11,\n",
    "          'Queen': 12, 'King': 13, 'Ace': 14}    "
   ]
  },
  {
   "cell_type": "code",
   "execution_count": 19,
   "metadata": {},
   "outputs": [],
   "source": [
    "class Card:\n",
    "    def __init__(self, suit, rank):\n",
    "        self.suit = suit\n",
    "        self.rank = rank\n",
    "        self.value = values[rank]\n",
    "        \n",
    "    def __str__(self):\n",
    "        return self.rank + \" of \" + self.suit"
   ]
  },
  {
   "cell_type": "code",
   "execution_count": 36,
   "metadata": {},
   "outputs": [],
   "source": [
    "class Deck:\n",
    "    def __init__(self):\n",
    "        self.all_cards = []\n",
    "        \n",
    "        for suit in suits:\n",
    "            for rank in ranks:\n",
    "                created_card = Card(suit, rank)\n",
    "                self.all_cards.append(created_card)\n",
    "    def shuffle(self):\n",
    "        random.shuffle(self.all_cards)\n",
    "    def deal_one(self):\n",
    "        return self.all_cards.pop()"
   ]
  },
  {
   "cell_type": "code",
   "execution_count": 42,
   "metadata": {},
   "outputs": [],
   "source": [
    "class Player:\n",
    "    def __init__(self, name):\n",
    "        self.name = name\n",
    "        self.all_cards = []\n",
    "    def remove_one(self):\n",
    "        return self.all_cards.pop(0)\n",
    "    def add_cards(self, new_cards):\n",
    "        if type(new_cards)==list:\n",
    "            self.all_cards.extend(new_cards)\n",
    "        else:\n",
    "            self.all_cards.append(new_cards)            \n",
    "    def __str__(self):\n",
    "        return f'Player {self.name} has {len(self.all_cards)} cards'"
   ]
  },
  {
   "cell_type": "code",
   "execution_count": null,
   "metadata": {},
   "outputs": [],
   "source": [
    "player1 = Player(\"Dagm\")\n",
    "player2 = Player(\"Rebecca\")\n",
    "\n",
    "the_deck = Deck()\n",
    "the_deck.shuffle()\n",
    "\n",
    "for i in range(26):\n",
    "    player1.add_cards(the_deck.deal_one())\n",
    "    player2.add_cards(the_deck.deal_one())\n",
    "    \n",
    "print(player1)\n",
    "print(player2)\n",
    "print(len(the_deck.all_cards))\n",
    "    "
   ]
  },
  {
   "cell_type": "code",
   "execution_count": 70,
   "metadata": {},
   "outputs": [],
   "source": [
    "game_on = True"
   ]
  },
  {
   "cell_type": "code",
   "execution_count": null,
   "metadata": {},
   "outputs": [],
   "source": [
    "round_num = 0\n",
    "while game_on:\n",
    "    round_num +=1\n",
    "    print(f'Round {round_num}')\n",
    "    if len(player1.all_cards) == 0:\n",
    "        print(f'Player {player1.name} out of cards. player {player2.name} has won')\n",
    "        game_on = False\n",
    "        break\n",
    "    elif len(player2.all_cards)==0:\n",
    "        print(f'Player {player2.name} out of cards. player {player1.name} has won')\n",
    "        game_on = False\n",
    "        break\n",
    "        \n",
    "    \n",
    "    player1_cards = []\n",
    "    player2_cards = []\n",
    "    card1 = player1.remove_one()\n",
    "    player1_cards.append(card1)\n",
    "    card2 = player2.remove_one()\n",
    "    player2_cards.append(card2)\n",
    "    \n",
    "    at_war = True\n",
    "    \n",
    "    while at_war:\n",
    "        if player1_cards[-1].value > player2_cards[-1].value:\n",
    "            player1.add_cards(player1_cards)\n",
    "            player1.add_cards(player2_cards)\n",
    "            at_war = False\n",
    "        elif player2_cards[-1].value > player1_cards[-1].value:\n",
    "            player2.add_cards(player1_cards)\n",
    "            player2.add_cards(player2_cards)\n",
    "            at_war = False\n",
    "        else:\n",
    "            print('War!')\n",
    "            if len(player1.all_cards) < 5 and len(player2.all_cards) >= 5:\n",
    "                print(f'Player {player1.name} unable to decalre war, Player {player2.name} has won')\n",
    "                game_on = False\n",
    "                break\n",
    "            elif len(player2.all_cards) < 5 and len(player1.all_cards) >= 5: \n",
    "                print(f'Player {player2.name} unable to decalre war, Player {player1.name} has won')\n",
    "                game_on = False\n",
    "                break\n",
    "            else:\n",
    "                for i in range(5):\n",
    "                    player1_cards.append(player1.remove_one())\n",
    "                    player2_cards.append(player2.remove_one())\n",
    "            "
   ]
  },
  {
   "cell_type": "code",
   "execution_count": null,
   "metadata": {},
   "outputs": [],
   "source": []
  }
 ],
 "metadata": {
  "kernelspec": {
   "display_name": "Python 3",
   "language": "python",
   "name": "python3"
  },
  "language_info": {
   "codemirror_mode": {
    "name": "ipython",
    "version": 3
   },
   "file_extension": ".py",
   "mimetype": "text/x-python",
   "name": "python",
   "nbconvert_exporter": "python",
   "pygments_lexer": "ipython3",
   "version": "3.7.6"
  }
 },
 "nbformat": 4,
 "nbformat_minor": 4
}
